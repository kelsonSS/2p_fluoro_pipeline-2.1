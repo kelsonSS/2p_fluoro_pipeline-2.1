{
 "cells": [
  {
   "cell_type": "code",
   "execution_count": 2,
   "metadata": {},
   "outputs": [],
   "source": [
    "from icalendar import Calendar\n",
    "import pandas as pd"
   ]
  },
  {
   "cell_type": "code",
   "execution_count": 3,
   "metadata": {},
   "outputs": [],
   "source": [
    "# download bscope calendar as ics file and put filepath to it below\n",
    "filepath = '/Users/kelson/Downloads/Bscope Room_7p4sdlj3inc0opkaurdljommng@group.calendar.google.com.ics'\n",
    "\n",
    "with open(filepath) as file:\n",
    "  bscope  =  Calendar.from_ical(file.read())\n"
   ]
  },
  {
   "cell_type": "code",
   "execution_count": 4,
   "metadata": {},
   "outputs": [],
   "source": [
    "def calculate_time(event):\n",
    "    start = event['DTSTART'].dt\n",
    "    end = event['DTEND'].dt\n",
    "    x= end - start\n",
    "    return x.seconds/60 "
   ]
  },
  {
   "cell_type": "code",
   "execution_count": 5,
   "metadata": {},
   "outputs": [],
   "source": [
    "Bscope = pd.DataFrame(data = [ ( e['SUMMARY'], e['DTSTART'].dt, calculate_time(e) ) for e in bscope.walk('VEVENT') ],\n",
    "             columns = {'User','Date','Minutes'})"
   ]
  },
  {
   "cell_type": "code",
   "execution_count": 11,
   "metadata": {},
   "outputs": [],
   "source": [
    "Bscope.sort_values('User')\n",
    "\n",
    "Bscope.to_csv('All_Bscope_calendar.csv')"
   ]
  },
  {
   "cell_type": "code",
   "execution_count": null,
   "metadata": {},
   "outputs": [],
   "source": []
  }
 ],
 "metadata": {
  "kernelspec": {
   "display_name": "Python 3",
   "language": "python",
   "name": "python3"
  },
  "language_info": {
   "codemirror_mode": {
    "name": "ipython",
    "version": 3
   },
   "file_extension": ".py",
   "mimetype": "text/x-python",
   "name": "python",
   "nbconvert_exporter": "python",
   "pygments_lexer": "ipython3",
   "version": "3.6.8"
  }
 },
 "nbformat": 4,
 "nbformat_minor": 2
}
